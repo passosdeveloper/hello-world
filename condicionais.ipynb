{
  "nbformat": 4,
  "nbformat_minor": 0,
  "metadata": {
    "colab": {
      "provenance": [],
      "authorship_tag": "ABX9TyPbNSuBN+tOpa6gWciSnu1A",
      "include_colab_link": true
    },
    "kernelspec": {
      "name": "python3",
      "display_name": "Python 3"
    },
    "language_info": {
      "name": "python"
    }
  },
  "cells": [
    {
      "cell_type": "markdown",
      "metadata": {
        "id": "view-in-github",
        "colab_type": "text"
      },
      "source": [
        "<a href=\"https://colab.research.google.com/github/passosdeveloper/hello-world/blob/master/condicionais.ipynb\" target=\"_parent\"><img src=\"https://colab.research.google.com/assets/colab-badge.svg\" alt=\"Open In Colab\"/></a>"
      ]
    },
    {
      "cell_type": "code",
      "execution_count": 10,
      "metadata": {
        "colab": {
          "base_uri": "https://localhost:8080/"
        },
        "id": "CUPnFWQi4qV8",
        "outputId": "b72f288f-8d25-4956-f5cf-420fcce17118"
      },
      "outputs": [
        {
          "output_type": "stream",
          "name": "stdout",
          "text": [
            "O maior número é: 20\n",
            "O maior número é: 20\n"
          ]
        }
      ],
      "source": [
        "#estratégia 1#\n",
        "a=10\n",
        "b=20\n",
        "if(a>b):\n",
        "  maior=a\n",
        "else:\n",
        "  maior=b\n",
        "print(f'O maior número é: {maior}')\n",
        "#estratégia 2#\n",
        "a=10\n",
        "b=20\n",
        "maior=a\n",
        "if(b>maior):\n",
        "  maior=b\n",
        "print(f'O maior número é: {maior}')\n"
      ]
    }
  ]
}