{
  "nbformat": 4,
  "nbformat_minor": 0,
  "metadata": {
    "colab": {
      "provenance": [],
      "authorship_tag": "ABX9TyMch5FJZBFL/Vbg+bZUFNCn",
      "include_colab_link": true
    },
    "kernelspec": {
      "name": "python3",
      "display_name": "Python 3"
    },
    "language_info": {
      "name": "python"
    }
  },
  "cells": [
    {
      "cell_type": "markdown",
      "metadata": {
        "id": "view-in-github",
        "colab_type": "text"
      },
      "source": [
        "<a href=\"https://colab.research.google.com/github/passosdeveloper/hello-world/blob/master/condicionais.ipynb\" target=\"_parent\"><img src=\"https://colab.research.google.com/assets/colab-badge.svg\" alt=\"Open In Colab\"/></a>"
      ]
    },
    {
      "cell_type": "code",
      "execution_count": 5,
      "metadata": {
        "colab": {
          "base_uri": "https://localhost:8080/"
        },
        "id": "CUPnFWQi4qV8",
        "outputId": "e409f227-e985-49b7-fb54-4da38a9c6baa"
      },
      "outputs": [
        {
          "output_type": "stream",
          "name": "stdout",
          "text": [
            "O maior número é: 20\n"
          ]
        }
      ],
      "source": [
        "a=10\n",
        "b=20\n",
        "if(a>b):\n",
        "  maior=a\n",
        "else:\n",
        "  maior=b\n",
        "print(f'O maior número é: {maior}')\n",
        "\n"
      ]
    }
  ]
}