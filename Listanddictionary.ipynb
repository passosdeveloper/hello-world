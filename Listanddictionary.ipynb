{
  "nbformat": 4,
  "nbformat_minor": 0,
  "metadata": {
    "colab": {
      "provenance": [],
      "authorship_tag": "ABX9TyN8tzrCJKO/m/86WtJPAnk/",
      "include_colab_link": true
    },
    "kernelspec": {
      "name": "python3",
      "display_name": "Python 3"
    },
    "language_info": {
      "name": "python"
    }
  },
  "cells": [
    {
      "cell_type": "markdown",
      "metadata": {
        "id": "view-in-github",
        "colab_type": "text"
      },
      "source": [
        "<a href=\"https://colab.research.google.com/github/passosdeveloper/hello-world/blob/master/Listanddictionary.ipynb\" target=\"_parent\"><img src=\"https://colab.research.google.com/assets/colab-badge.svg\" alt=\"Open In Colab\"/></a>"
      ]
    },
    {
      "cell_type": "code",
      "execution_count": 6,
      "metadata": {
        "colab": {
          "base_uri": "https://localhost:8080/"
        },
        "id": "dNTI7X0lthsu",
        "outputId": "950736a5-1005-4508-debb-2b549da948a4"
      },
      "outputs": [
        {
          "output_type": "stream",
          "name": "stdout",
          "text": [
            "lista[0]=101\n",
            "toda lista= [101, 202, 303, 404, 505]\n",
            "todas pessoas = {1111: ['nome1'], 2222: ['nome2']}\n"
          ]
        }
      ],
      "source": [
        "lista = [101,202,303,404,505]\n",
        "print(f'lista[0]={lista[0]}')\n",
        "print(f'toda lista= {lista}')\n",
        "pessoas = {1111:['nome1'],2222:['nome2']}\n",
        "print(f'todas pessoas = {pessoas}')\n"
      ]
    }
  ]
}