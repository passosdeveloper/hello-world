{
  "nbformat": 4,
  "nbformat_minor": 0,
  "metadata": {
    "colab": {
      "provenance": [],
      "authorship_tag": "ABX9TyN+q5y4iX79rwmLBWvpwiJ+",
      "include_colab_link": true
    },
    "kernelspec": {
      "name": "python3",
      "display_name": "Python 3"
    },
    "language_info": {
      "name": "python"
    }
  },
  "cells": [
    {
      "cell_type": "markdown",
      "metadata": {
        "id": "view-in-github",
        "colab_type": "text"
      },
      "source": [
        "<a href=\"https://colab.research.google.com/github/passosdeveloper/hello-world/blob/master/alunosaprovreprovourec.ipynb\" target=\"_parent\"><img src=\"https://colab.research.google.com/assets/colab-badge.svg\" alt=\"Open In Colab\"/></a>"
      ]
    },
    {
      "cell_type": "code",
      "execution_count": 2,
      "metadata": {
        "colab": {
          "base_uri": "https://localhost:8080/"
        },
        "id": "g2T40Wqq9g-9",
        "outputId": "c6d86e84-3f0b-4a04-e102-d54e59248343"
      },
      "outputs": [
        {
          "output_type": "stream",
          "name": "stdout",
          "text": [
            "O estudante está: aprovado\n"
          ]
        }
      ],
      "source": [
        "media = 8.5\n",
        "\n",
        "if(media>=7.0):\n",
        "  situacao = \"aprovado\"\n",
        "elif(media>=5.0):\n",
        "  situacao = \"Em recuperação\"\n",
        "else:\n",
        "  situacao = \"reprovado\"\n",
        "print(f'O estudante está: {situacao}')"
      ]
    }
  ]
}