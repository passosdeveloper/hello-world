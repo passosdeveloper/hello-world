{
  "nbformat": 4,
  "nbformat_minor": 0,
  "metadata": {
    "colab": {
      "provenance": [],
      "authorship_tag": "ABX9TyPte96olMk4NqFZC5P1aA6O",
      "include_colab_link": true
    },
    "kernelspec": {
      "name": "python3",
      "display_name": "Python 3"
    },
    "language_info": {
      "name": "python"
    }
  },
  "cells": [
    {
      "cell_type": "markdown",
      "metadata": {
        "id": "view-in-github",
        "colab_type": "text"
      },
      "source": [
        "<a href=\"https://colab.research.google.com/github/passosdeveloper/hello-world/blob/master/precounit10112020mais.ipynb\" target=\"_parent\"><img src=\"https://colab.research.google.com/assets/colab-badge.svg\" alt=\"Open In Colab\"/></a>"
      ]
    },
    {
      "cell_type": "code",
      "execution_count": 6,
      "metadata": {
        "colab": {
          "base_uri": "https://localhost:8080/"
        },
        "id": "g2T40Wqq9g-9",
        "outputId": "f7ae1ecf-a728-467e-c185-43209dfcddc9"
      },
      "outputs": [
        {
          "output_type": "stream",
          "name": "stdout",
          "text": [
            "Digite a quantidade que vai comprar:25\n",
            "O valor final da compra é: 500.0\n"
          ]
        }
      ],
      "source": [
        "preco_unitario = 25\n",
        "desconto10 = 0.1\n",
        "desconto20 = 0.2\n",
        "quantidade = eval(input(\"Digite a quantidade que vai comprar:\"))\n",
        "if(quantidade<=10):#menor ou igual a 10\n",
        "  valor_final = preco_unitario*quantidade\n",
        "elif(quantidade<=20):#maior que 10 e menor ou igual a 20\n",
        "  valor_final = preco_unitario*quantidade*(1-desconto10)\n",
        "else:#maior que 20\n",
        "  valor_final = preco_unitario*quantidade*(1-desconto20)\n",
        "\n",
        "print(f'O valor final da compra é: {valor_final}')"
      ]
    }
  ]
}