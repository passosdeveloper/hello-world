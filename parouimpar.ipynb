{
  "nbformat": 4,
  "nbformat_minor": 0,
  "metadata": {
    "colab": {
      "provenance": [],
      "authorship_tag": "ABX9TyM6CITQuJvG5WI7cLHdJJ4P",
      "include_colab_link": true
    },
    "kernelspec": {
      "name": "python3",
      "display_name": "Python 3"
    },
    "language_info": {
      "name": "python"
    }
  },
  "cells": [
    {
      "cell_type": "markdown",
      "metadata": {
        "id": "view-in-github",
        "colab_type": "text"
      },
      "source": [
        "<a href=\"https://colab.research.google.com/github/passosdeveloper/hello-world/blob/master/parouimpar.ipynb\" target=\"_parent\"><img src=\"https://colab.research.google.com/assets/colab-badge.svg\" alt=\"Open In Colab\"/></a>"
      ]
    },
    {
      "cell_type": "code",
      "execution_count": 5,
      "metadata": {
        "colab": {
          "base_uri": "https://localhost:8080/"
        },
        "id": "z0Uq2GL68GxP",
        "outputId": "4ea5a367-04a5-4df8-b3f9-40d2dae77ce3"
      },
      "outputs": [
        {
          "output_type": "stream",
          "name": "stdout",
          "text": [
            "O número é par\n"
          ]
        }
      ],
      "source": [
        "numero = 46\n",
        "\n",
        "if(numero%2==0):\n",
        "  situacao=\"O número é par\"\n",
        "else:\n",
        "  situacao=\"O número é ímpar\"\n",
        "\n",
        "print(situacao)"
      ]
    }
  ]
}