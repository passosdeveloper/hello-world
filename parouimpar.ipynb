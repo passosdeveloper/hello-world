{
  "nbformat": 4,
  "nbformat_minor": 0,
  "metadata": {
    "colab": {
      "provenance": [],
      "authorship_tag": "ABX9TyMeEMwTsGFkmrlWZVfhgdLQ",
      "include_colab_link": true
    },
    "kernelspec": {
      "name": "python3",
      "display_name": "Python 3"
    },
    "language_info": {
      "name": "python"
    }
  },
  "cells": [
    {
      "cell_type": "markdown",
      "metadata": {
        "id": "view-in-github",
        "colab_type": "text"
      },
      "source": [
        "<a href=\"https://colab.research.google.com/github/passosdeveloper/hello-world/blob/master/parouimpar.ipynb\" target=\"_parent\"><img src=\"https://colab.research.google.com/assets/colab-badge.svg\" alt=\"Open In Colab\"/></a>"
      ]
    },
    {
      "cell_type": "code",
      "execution_count": null,
      "metadata": {
        "id": "z0Uq2GL68GxP"
      },
      "outputs": [],
      "source": [
        "numero = 46\n",
        "if(numero%2==0):\n",
        "  situacao=\"O número é par\"\n",
        "else:\n",
        "  situacao=\"O número é ímpar\"\n",
        "\n",
        "  print(situacao)"
      ]
    }
  ]
}